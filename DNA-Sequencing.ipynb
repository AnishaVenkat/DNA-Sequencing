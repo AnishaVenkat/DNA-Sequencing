{
 "cells": [
  {
   "cell_type": "markdown",
   "id": "d62402ba",
   "metadata": {},
   "source": [
    "# In this project we will classify various DNA Sequence types:"
   ]
  },
  {
   "cell_type": "code",
   "execution_count": 2,
   "id": "348e2235",
   "metadata": {},
   "outputs": [],
   "source": [
    "import pandas as pd\n",
    "import matplotlib.pyplot as plt\n",
    "import numpy as np\n",
    "import seaborn as sns"
   ]
  },
  {
   "cell_type": "markdown",
   "id": "a7fa54ae",
   "metadata": {},
   "source": [
    "# We have 3 datasets for DNA sequence :Human,dog and chimpanzee"
   ]
  },
  {
   "cell_type": "code",
   "execution_count": 3,
   "id": "e2bf410a",
   "metadata": {},
   "outputs": [
    {
     "data": {
      "text/html": [
       "<div>\n",
       "<style scoped>\n",
       "    .dataframe tbody tr th:only-of-type {\n",
       "        vertical-align: middle;\n",
       "    }\n",
       "\n",
       "    .dataframe tbody tr th {\n",
       "        vertical-align: top;\n",
       "    }\n",
       "\n",
       "    .dataframe thead th {\n",
       "        text-align: right;\n",
       "    }\n",
       "</style>\n",
       "<table border=\"1\" class=\"dataframe\">\n",
       "  <thead>\n",
       "    <tr style=\"text-align: right;\">\n",
       "      <th></th>\n",
       "      <th>sequence</th>\n",
       "      <th>class</th>\n",
       "    </tr>\n",
       "  </thead>\n",
       "  <tbody>\n",
       "    <tr>\n",
       "      <th>0</th>\n",
       "      <td>ATGCCCCAACTAAATACTACCGTATGGCCCACCATAATTACCCCCA...</td>\n",
       "      <td>4</td>\n",
       "    </tr>\n",
       "    <tr>\n",
       "      <th>1</th>\n",
       "      <td>ATGAACGAAAATCTGTTCGCTTCATTCATTGCCCCCACAATCCTAG...</td>\n",
       "      <td>4</td>\n",
       "    </tr>\n",
       "    <tr>\n",
       "      <th>2</th>\n",
       "      <td>ATGTGTGGCATTTGGGCGCTGTTTGGCAGTGATGATTGCCTTTCTG...</td>\n",
       "      <td>3</td>\n",
       "    </tr>\n",
       "    <tr>\n",
       "      <th>3</th>\n",
       "      <td>ATGTGTGGCATTTGGGCGCTGTTTGGCAGTGATGATTGCCTTTCTG...</td>\n",
       "      <td>3</td>\n",
       "    </tr>\n",
       "    <tr>\n",
       "      <th>4</th>\n",
       "      <td>ATGCAACAGCATTTTGAATTTGAATACCAGACCAAAGTGGATGGTG...</td>\n",
       "      <td>3</td>\n",
       "    </tr>\n",
       "  </tbody>\n",
       "</table>\n",
       "</div>"
      ],
      "text/plain": [
       "                                            sequence  class\n",
       "0  ATGCCCCAACTAAATACTACCGTATGGCCCACCATAATTACCCCCA...      4\n",
       "1  ATGAACGAAAATCTGTTCGCTTCATTCATTGCCCCCACAATCCTAG...      4\n",
       "2  ATGTGTGGCATTTGGGCGCTGTTTGGCAGTGATGATTGCCTTTCTG...      3\n",
       "3  ATGTGTGGCATTTGGGCGCTGTTTGGCAGTGATGATTGCCTTTCTG...      3\n",
       "4  ATGCAACAGCATTTTGAATTTGAATACCAGACCAAAGTGGATGGTG...      3"
      ]
     },
     "execution_count": 3,
     "metadata": {},
     "output_type": "execute_result"
    }
   ],
   "source": [
    "human_dt=pd.read_table(\"Dataset/human_data.txt\")\n",
    "human_dt.head()"
   ]
  },
  {
   "cell_type": "code",
   "execution_count": 4,
   "id": "fe27c6ad",
   "metadata": {},
   "outputs": [
    {
     "data": {
      "text/plain": [
       "(4380, 2)"
      ]
     },
     "execution_count": 4,
     "metadata": {},
     "output_type": "execute_result"
    }
   ],
   "source": [
    "human_dt.shape"
   ]
  },
  {
   "cell_type": "code",
   "execution_count": 5,
   "id": "14444575",
   "metadata": {},
   "outputs": [
    {
     "data": {
      "text/html": [
       "<div>\n",
       "<style scoped>\n",
       "    .dataframe tbody tr th:only-of-type {\n",
       "        vertical-align: middle;\n",
       "    }\n",
       "\n",
       "    .dataframe tbody tr th {\n",
       "        vertical-align: top;\n",
       "    }\n",
       "\n",
       "    .dataframe thead th {\n",
       "        text-align: right;\n",
       "    }\n",
       "</style>\n",
       "<table border=\"1\" class=\"dataframe\">\n",
       "  <thead>\n",
       "    <tr style=\"text-align: right;\">\n",
       "      <th></th>\n",
       "      <th>sequence</th>\n",
       "      <th>class</th>\n",
       "    </tr>\n",
       "  </thead>\n",
       "  <tbody>\n",
       "    <tr>\n",
       "      <th>0</th>\n",
       "      <td>ATGCCACAGCTAGATACATCCACCTGATTTATTATAATCTTTTCAA...</td>\n",
       "      <td>4</td>\n",
       "    </tr>\n",
       "    <tr>\n",
       "      <th>1</th>\n",
       "      <td>ATGAACGAAAATCTATTCGCTTCTTTCGCTGCCCCCTCAATAATAG...</td>\n",
       "      <td>4</td>\n",
       "    </tr>\n",
       "    <tr>\n",
       "      <th>2</th>\n",
       "      <td>ATGGAAACACCCTTCTACGGCGATGAGGCGCTGAGCGGCCTGGGCG...</td>\n",
       "      <td>6</td>\n",
       "    </tr>\n",
       "    <tr>\n",
       "      <th>3</th>\n",
       "      <td>ATGTGCACTAAAATGGAACAGCCCTTCTACCACGACGACTCATACG...</td>\n",
       "      <td>6</td>\n",
       "    </tr>\n",
       "    <tr>\n",
       "      <th>4</th>\n",
       "      <td>ATGAGCCGGCAGCTAAACAGAAGCCAGAACTGCTCCTTCAGTGACG...</td>\n",
       "      <td>0</td>\n",
       "    </tr>\n",
       "  </tbody>\n",
       "</table>\n",
       "</div>"
      ],
      "text/plain": [
       "                                            sequence  class\n",
       "0  ATGCCACAGCTAGATACATCCACCTGATTTATTATAATCTTTTCAA...      4\n",
       "1  ATGAACGAAAATCTATTCGCTTCTTTCGCTGCCCCCTCAATAATAG...      4\n",
       "2  ATGGAAACACCCTTCTACGGCGATGAGGCGCTGAGCGGCCTGGGCG...      6\n",
       "3  ATGTGCACTAAAATGGAACAGCCCTTCTACCACGACGACTCATACG...      6\n",
       "4  ATGAGCCGGCAGCTAAACAGAAGCCAGAACTGCTCCTTCAGTGACG...      0"
      ]
     },
     "execution_count": 5,
     "metadata": {},
     "output_type": "execute_result"
    }
   ],
   "source": [
    "dog_dt=pd.read_table(\"Dataset/dog_data.txt\")\n",
    "dog_dt.head()"
   ]
  },
  {
   "cell_type": "code",
   "execution_count": 6,
   "id": "1bcfc318",
   "metadata": {},
   "outputs": [
    {
     "data": {
      "text/plain": [
       "(820, 2)"
      ]
     },
     "execution_count": 6,
     "metadata": {},
     "output_type": "execute_result"
    }
   ],
   "source": [
    "dog_dt.shape"
   ]
  },
  {
   "cell_type": "code",
   "execution_count": 7,
   "id": "460c55d4",
   "metadata": {},
   "outputs": [
    {
     "data": {
      "text/html": [
       "<div>\n",
       "<style scoped>\n",
       "    .dataframe tbody tr th:only-of-type {\n",
       "        vertical-align: middle;\n",
       "    }\n",
       "\n",
       "    .dataframe tbody tr th {\n",
       "        vertical-align: top;\n",
       "    }\n",
       "\n",
       "    .dataframe thead th {\n",
       "        text-align: right;\n",
       "    }\n",
       "</style>\n",
       "<table border=\"1\" class=\"dataframe\">\n",
       "  <thead>\n",
       "    <tr style=\"text-align: right;\">\n",
       "      <th></th>\n",
       "      <th>sequence</th>\n",
       "      <th>class</th>\n",
       "    </tr>\n",
       "  </thead>\n",
       "  <tbody>\n",
       "    <tr>\n",
       "      <th>0</th>\n",
       "      <td>ATGCCCCAACTAAATACCGCCGTATGACCCACCATAATTACCCCCA...</td>\n",
       "      <td>4</td>\n",
       "    </tr>\n",
       "    <tr>\n",
       "      <th>1</th>\n",
       "      <td>ATGAACGAAAATCTATTCGCTTCATTCGCTGCCCCCACAATCCTAG...</td>\n",
       "      <td>4</td>\n",
       "    </tr>\n",
       "    <tr>\n",
       "      <th>2</th>\n",
       "      <td>ATGGCCTCGCGCTGGTGGCGGTGGCGACGCGGCTGCTCCTGGAGGC...</td>\n",
       "      <td>4</td>\n",
       "    </tr>\n",
       "    <tr>\n",
       "      <th>3</th>\n",
       "      <td>ATGGCCTCGCGCTGGTGGCGGTGGCGACGCGGCTGCTCCTGGAGGC...</td>\n",
       "      <td>4</td>\n",
       "    </tr>\n",
       "    <tr>\n",
       "      <th>4</th>\n",
       "      <td>ATGGGCAGCGCCAGCCCGGGTCTGAGCAGCGTGTCCCCCAGCCACC...</td>\n",
       "      <td>6</td>\n",
       "    </tr>\n",
       "  </tbody>\n",
       "</table>\n",
       "</div>"
      ],
      "text/plain": [
       "                                            sequence  class\n",
       "0  ATGCCCCAACTAAATACCGCCGTATGACCCACCATAATTACCCCCA...      4\n",
       "1  ATGAACGAAAATCTATTCGCTTCATTCGCTGCCCCCACAATCCTAG...      4\n",
       "2  ATGGCCTCGCGCTGGTGGCGGTGGCGACGCGGCTGCTCCTGGAGGC...      4\n",
       "3  ATGGCCTCGCGCTGGTGGCGGTGGCGACGCGGCTGCTCCTGGAGGC...      4\n",
       "4  ATGGGCAGCGCCAGCCCGGGTCTGAGCAGCGTGTCCCCCAGCCACC...      6"
      ]
     },
     "execution_count": 7,
     "metadata": {},
     "output_type": "execute_result"
    }
   ],
   "source": [
    "chimp_dt=pd.read_table(\"Dataset/chimp_data.txt\")\n",
    "chimp_dt.head()"
   ]
  },
  {
   "cell_type": "code",
   "execution_count": 8,
   "id": "48109a38",
   "metadata": {},
   "outputs": [
    {
     "data": {
      "text/plain": [
       "(1682, 2)"
      ]
     },
     "execution_count": 8,
     "metadata": {},
     "output_type": "execute_result"
    }
   ],
   "source": [
    "chimp_dt.shape"
   ]
  },
  {
   "cell_type": "markdown",
   "id": "ea1a4152",
   "metadata": {},
   "source": [
    "# Treating DNA-Sequence  as language  we apply K-mers to the string: "
   ]
  },
  {
   "cell_type": "code",
   "execution_count": 9,
   "id": "26f43f03",
   "metadata": {},
   "outputs": [],
   "source": [
    "#we take size of 6 for the DNA-Sequence:\n",
    "\n",
    "def getkmers(sequence,size):\n",
    "    getlist=[]\n",
    "    for i in range(len(sequence)-size+1):\n",
    "        getlist.append(sequence[i:i+size].lower())\n",
    "    return getlist"
   ]
  },
  {
   "cell_type": "code",
   "execution_count": 10,
   "id": "6db04f20",
   "metadata": {},
   "outputs": [],
   "source": [
    "human_dt['words']=human_dt.apply(lambda x:getkmers(x['sequence'],6),axis=1)\n",
    "human_dt.drop(columns=['sequence'],axis=1,inplace=True)\n",
    "dog_dt['words']=dog_dt.apply(lambda y:getkmers(y['sequence'],6),axis=1)\n",
    "dog_dt.drop(columns=['sequence'],axis=1,inplace=True)\n",
    "chimp_dt['words']=chimp_dt.apply(lambda z:getkmers(z['sequence'],6),axis=1)\n",
    "chimp_dt.drop(columns=['sequence'],axis=1,inplace=True)"
   ]
  },
  {
   "cell_type": "code",
   "execution_count": 11,
   "id": "3eefa995",
   "metadata": {},
   "outputs": [
    {
     "data": {
      "text/html": [
       "<div>\n",
       "<style scoped>\n",
       "    .dataframe tbody tr th:only-of-type {\n",
       "        vertical-align: middle;\n",
       "    }\n",
       "\n",
       "    .dataframe tbody tr th {\n",
       "        vertical-align: top;\n",
       "    }\n",
       "\n",
       "    .dataframe thead th {\n",
       "        text-align: right;\n",
       "    }\n",
       "</style>\n",
       "<table border=\"1\" class=\"dataframe\">\n",
       "  <thead>\n",
       "    <tr style=\"text-align: right;\">\n",
       "      <th></th>\n",
       "      <th>class</th>\n",
       "      <th>words</th>\n",
       "    </tr>\n",
       "  </thead>\n",
       "  <tbody>\n",
       "    <tr>\n",
       "      <th>4375</th>\n",
       "      <td>0</td>\n",
       "      <td>[atggaa, tggaag, ggaaga, gaagat, aagatt, agatt...</td>\n",
       "    </tr>\n",
       "    <tr>\n",
       "      <th>4376</th>\n",
       "      <td>6</td>\n",
       "      <td>[atgcag, tgcagt, gcagtc, cagtcc, agtcct, gtcct...</td>\n",
       "    </tr>\n",
       "    <tr>\n",
       "      <th>4377</th>\n",
       "      <td>6</td>\n",
       "      <td>[atgcag, tgcagt, gcagtc, cagtcc, agtcct, gtcct...</td>\n",
       "    </tr>\n",
       "    <tr>\n",
       "      <th>4378</th>\n",
       "      <td>6</td>\n",
       "      <td>[atgggg, tggggc, ggggca, gggcac, ggcacc, gcacc...</td>\n",
       "    </tr>\n",
       "    <tr>\n",
       "      <th>4379</th>\n",
       "      <td>6</td>\n",
       "      <td>[atgcag, tgcagt, gcagtc, cagtcc, agtcct, gtcct...</td>\n",
       "    </tr>\n",
       "  </tbody>\n",
       "</table>\n",
       "</div>"
      ],
      "text/plain": [
       "      class                                              words\n",
       "4375      0  [atggaa, tggaag, ggaaga, gaagat, aagatt, agatt...\n",
       "4376      6  [atgcag, tgcagt, gcagtc, cagtcc, agtcct, gtcct...\n",
       "4377      6  [atgcag, tgcagt, gcagtc, cagtcc, agtcct, gtcct...\n",
       "4378      6  [atgggg, tggggc, ggggca, gggcac, ggcacc, gcacc...\n",
       "4379      6  [atgcag, tgcagt, gcagtc, cagtcc, agtcct, gtcct..."
      ]
     },
     "execution_count": 11,
     "metadata": {},
     "output_type": "execute_result"
    }
   ],
   "source": [
    "human_dt.tail()"
   ]
  },
  {
   "cell_type": "code",
   "execution_count": 12,
   "id": "b21ff7a4",
   "metadata": {},
   "outputs": [
    {
     "data": {
      "text/html": [
       "<div>\n",
       "<style scoped>\n",
       "    .dataframe tbody tr th:only-of-type {\n",
       "        vertical-align: middle;\n",
       "    }\n",
       "\n",
       "    .dataframe tbody tr th {\n",
       "        vertical-align: top;\n",
       "    }\n",
       "\n",
       "    .dataframe thead th {\n",
       "        text-align: right;\n",
       "    }\n",
       "</style>\n",
       "<table border=\"1\" class=\"dataframe\">\n",
       "  <thead>\n",
       "    <tr style=\"text-align: right;\">\n",
       "      <th></th>\n",
       "      <th>class</th>\n",
       "      <th>words</th>\n",
       "    </tr>\n",
       "  </thead>\n",
       "  <tbody>\n",
       "    <tr>\n",
       "      <th>815</th>\n",
       "      <td>5</td>\n",
       "      <td>[atggtc, tggtcg, ggtcgg, gtcggt, tcggtc, cggtc...</td>\n",
       "    </tr>\n",
       "    <tr>\n",
       "      <th>816</th>\n",
       "      <td>6</td>\n",
       "      <td>[atggcg, tggcgg, ggcggc, gcggcg, cggcga, ggcga...</td>\n",
       "    </tr>\n",
       "    <tr>\n",
       "      <th>817</th>\n",
       "      <td>6</td>\n",
       "      <td>[atgagc, tgagct, gagctc, agctcg, gctcgg, ctcgg...</td>\n",
       "    </tr>\n",
       "    <tr>\n",
       "      <th>818</th>\n",
       "      <td>1</td>\n",
       "      <td>[gccccg, ccccga, cccgag, ccgagg, cgagga, gagga...</td>\n",
       "    </tr>\n",
       "    <tr>\n",
       "      <th>819</th>\n",
       "      <td>6</td>\n",
       "      <td>[atggcc, tggcct, ggcctg, gcctgg, cctggg, ctggg...</td>\n",
       "    </tr>\n",
       "  </tbody>\n",
       "</table>\n",
       "</div>"
      ],
      "text/plain": [
       "     class                                              words\n",
       "815      5  [atggtc, tggtcg, ggtcgg, gtcggt, tcggtc, cggtc...\n",
       "816      6  [atggcg, tggcgg, ggcggc, gcggcg, cggcga, ggcga...\n",
       "817      6  [atgagc, tgagct, gagctc, agctcg, gctcgg, ctcgg...\n",
       "818      1  [gccccg, ccccga, cccgag, ccgagg, cgagga, gagga...\n",
       "819      6  [atggcc, tggcct, ggcctg, gcctgg, cctggg, ctggg..."
      ]
     },
     "execution_count": 12,
     "metadata": {},
     "output_type": "execute_result"
    }
   ],
   "source": [
    "dog_dt.tail()"
   ]
  },
  {
   "cell_type": "code",
   "execution_count": 13,
   "id": "b75a23ef",
   "metadata": {},
   "outputs": [
    {
     "data": {
      "text/html": [
       "<div>\n",
       "<style scoped>\n",
       "    .dataframe tbody tr th:only-of-type {\n",
       "        vertical-align: middle;\n",
       "    }\n",
       "\n",
       "    .dataframe tbody tr th {\n",
       "        vertical-align: top;\n",
       "    }\n",
       "\n",
       "    .dataframe thead th {\n",
       "        text-align: right;\n",
       "    }\n",
       "</style>\n",
       "<table border=\"1\" class=\"dataframe\">\n",
       "  <thead>\n",
       "    <tr style=\"text-align: right;\">\n",
       "      <th></th>\n",
       "      <th>class</th>\n",
       "      <th>words</th>\n",
       "    </tr>\n",
       "  </thead>\n",
       "  <tbody>\n",
       "    <tr>\n",
       "      <th>1677</th>\n",
       "      <td>5</td>\n",
       "      <td>[atgctg, tgctga, gctgag, ctgagc, tgagcg, gagcg...</td>\n",
       "    </tr>\n",
       "    <tr>\n",
       "      <th>1678</th>\n",
       "      <td>5</td>\n",
       "      <td>[atgctg, tgctga, gctgag, ctgagc, tgagcg, gagcg...</td>\n",
       "    </tr>\n",
       "    <tr>\n",
       "      <th>1679</th>\n",
       "      <td>6</td>\n",
       "      <td>[atgaag, tgaagc, gaagcg, aagcga, agcgac, gcgac...</td>\n",
       "    </tr>\n",
       "    <tr>\n",
       "      <th>1680</th>\n",
       "      <td>3</td>\n",
       "      <td>[atgact, tgactg, gactgg, actgga, ctggaa, tggaa...</td>\n",
       "    </tr>\n",
       "    <tr>\n",
       "      <th>1681</th>\n",
       "      <td>3</td>\n",
       "      <td>[atgttg, tgttgc, gttgcc, ttgccc, tgccca, gccca...</td>\n",
       "    </tr>\n",
       "  </tbody>\n",
       "</table>\n",
       "</div>"
      ],
      "text/plain": [
       "      class                                              words\n",
       "1677      5  [atgctg, tgctga, gctgag, ctgagc, tgagcg, gagcg...\n",
       "1678      5  [atgctg, tgctga, gctgag, ctgagc, tgagcg, gagcg...\n",
       "1679      6  [atgaag, tgaagc, gaagcg, aagcga, agcgac, gcgac...\n",
       "1680      3  [atgact, tgactg, gactgg, actgga, ctggaa, tggaa...\n",
       "1681      3  [atgttg, tgttgc, gttgcc, ttgccc, tgccca, gccca..."
      ]
     },
     "execution_count": 13,
     "metadata": {},
     "output_type": "execute_result"
    }
   ],
   "source": [
    "chimp_dt.tail()"
   ]
  },
  {
   "cell_type": "code",
   "execution_count": 14,
   "id": "15ee1db1",
   "metadata": {},
   "outputs": [],
   "source": [
    "#Applying Count vectorizer for the list of words in each dataset:\n",
    "\n",
    "human_text=[]\n",
    "\n",
    "for i in range(len(human_dt['words'])):\n",
    "    human_text.append(human_dt['words'][i])"
   ]
  },
  {
   "cell_type": "code",
   "execution_count": 15,
   "id": "26632bbe",
   "metadata": {},
   "outputs": [
    {
     "name": "stdout",
     "output_type": "stream",
     "text": [
      "atgtgt tgtgtg gtgtgg tgtggc gtggca tggcat ggcatt gcattt catttg atttgg tttggg ttgggc tgggcg gggcgc ggcgct gcgctg cgctgt gctgtt ctgttt tgtttg gtttgg tttggc ttggca tggcag ggcagt gcagtg cagtga agtgat gtgatg tgatga gatgat atgatt tgattg gattgc attgcc ttgcct tgcctt gccttt cctttc ctttct tttctg ttctgt tctgtt ctgttc tgttca gttcag ttcagt tcagtg cagtgt agtgtc gtgtct tgtctg gtctga tctgag ctgagt tgagtg gagtgc agtgct gtgcta tgctat gctatg ctatga tatgaa atgaag tgaaga gaagat aagatt agattg gattgc attgca ttgcac tgcaca gcacac cacaca acacag cacaga acagag cagagg agaggt gaggtc aggtcc ggtcca gtccag tccaga ccagat cagatg agatgc gatgca atgcat tgcatt gcattc cattcc attccg ttccgt tccgtt ccgttt cgtttt gttttg ttttga tttgag ttgaga tgagaa gagaat agaatg gaatgt aatgtc atgtca tgtcaa gtcaat tcaatg caatgg aatgga atggat tggata ggatac gataca atacac tacacc acacca caccaa accaac ccaact caactg aactgc actgct ctgctg tgctgc gctgct ctgctt tgcttt gctttg ctttgg tttgga ttggat tggatt ggattt gatttc atttca tttcac ttcacc tcaccg caccgg accggt ccggtt cggttg ggttgg gttggc ttggcg tggcgg ggcggt gcggta cggtag ggtagt gtagtt tagttg agttga gttgac ttgacc tgaccc gacccg acccgc cccgct ccgctg cgctgt gctgtt ctgttt tgtttg gtttgg tttgga ttggaa tggaat ggaatg gaatgc aatgca atgcag tgcagc gcagcc cagcca agccaa gccaat ccaatt caattc aattcg attcga ttcgag tcgagt cgagtg gagtga agtgaa gtgaag tgaaga gaagaa aagaaa agaaat gaaata aaatat aatatc atatcc tatccg atccgt tccgta ccgtat cgtatt gtattt tatttg atttgt tttgtg ttgtgg tgtggc gtggct tggctc ggctct gctctg ctctgt tctgtt ctgtta tgttac gttaca ttacaa tacaat acaatg caatgg aatggt atggtg tggtga ggtgaa gtgaaa tgaaat gaaatc aaatct aatcta atctac tctaca ctacaa tacaac acaacc caacca aaccat accata ccataa cataag ataaga taagaa aagaag agaaga gaagat aagatg agatgc gatgca atgcaa tgcaac gcaaca caacag aacagc acagca cagcat agcatt gcattt catttt attttg ttttga tttgaa ttgaat tgaatt gaattt aatttg atttga tttgaa ttgaat tgaata gaatac aatacc atacca taccag accaga ccagac cagacc agacca gaccaa accaaa ccaaag caaagt aaagtg aagtgg agtgga gtggat tggatg ggatgg gatggt atggtg tggtga ggtgag gtgaga tgagat gagata agataa gataat ataatc taatcc aatcct atcctt tccttc ccttca cttcat ttcatc tcatct catctt atcttt tcttta ctttat tttatg ttatga tatgac atgaca tgacaa gacaaa acaaag caaagg aaagga aaggag aggagg ggagga gaggaa aggaat ggaatt gaattg aattga attgag ttgagc tgagca gagcaa agcaaa gcaaac caaaca aaacaa aacaat acaatt caattt aatttg atttgt tttgta ttgtat tgtatg gtatgt tatgtt atgttg tgttgg gttgga ttggat tggatg ggatgg gatggt atggtg tggtgt ggtgtg gtgtgt tgtgtt gtgttt tgtttg gtttgc tttgca ttgcat tgcatt gcattt catttg atttgt tttgtt ttgttt tgtttt gtttta ttttac tttact ttactg tactgg actgga ctggat tggata ggatac gatact atactg tactgc actgcc ctgcca tgccaa gccaat ccaata caataa aataag ataaga taagaa aagaaa agaaag gaaagt aaagtg aagtgt agtgtt gtgttc tgttcc gttcct ttcctg tcctgg cctggg ctgggt tgggta gggtag ggtaga gtagag tagaga agagat gagata agatac gataca atacat tacata acatat catatg atatgg tatgga atggag tggagt ggagtc gagtca agtcag gtcaga tcagac cagacc agacct gacctt accttt cctttg ctttgt tttgtt ttgttt tgttta gtttaa tttaaa ttaaag taaagc aaagca aagcaa agcaat gcaatg caatga aatgac atgaca tgacag gacaga acagaa cagaag agaaga gaagat aagatg agatgg gatgga atggat tggatt ggattt gatttt attttt tttttg ttttgg tttggc ttggct tggctg ggctgt gctgta ctgtat tgtatg gtatgt tatgtt atgttc tgttca gttcag ttcaga tcagaa cagaag agaagc gaagct aagcta agctaa gctaaa ctaaag taaagg aaaggt aaggtc aggtct ggtctt gtcttg tcttgt cttgtt ttgtta tgttac gttaca ttacat tacatt acattg cattga attgaa ttgaag tgaagc gaagca aagcac agcact gcactc cactcc actccg ctccgc tccgcg ccgcga cgcgac gcgact cgactc gactcc actccc ctccct tccctt cccttt cctttt cttttt ttttta ttttaa tttaaa ttaaaa taaaag aaaagt aaagtg aagtgg agtgga gtggag tggagc ggagcc gagcct agcctt gccttt cctttt cttttc ttttct tttctt ttcttc tcttcc cttcct ttcctg tcctgg cctgga ctggac tggaca ggacac gacact acacta cactat actatg ctatga tatgaa atgaag tgaagt gaagtt aagttt agtttt gttttg ttttgg tttgga ttggat tggatt ggattt gattta atttaa tttaaa ttaaag taaagc aaagcc aagcca agccaa gccaaa ccaaat caaatg aaatgg aatggc atggca tggcaa ggcaaa gcaaag caaagt aaagtt aagttg agttgc gttgca ttgcat tgcatc gcatcc catccg atccgt tccgtg ccgtgg cgtgga gtggaa tggaaa ggaaat gaaatg aaatgg aatggt atggtt tggtta ggttaa gttaaa ttaaat taaata aaatat aatatc atatca tatcat atcatc tcatca catcac atcact tcactg cactgt actgtc ctgtcg tgtcgg gtcggg tcggga cgggat gggatg ggatgt gatgta atgtac tgtacc gtaccc tacccc acccct cccctg ccctgc cctgca ctgcac tgcacg gcacgc cacgcc acgccc cgccct gccctc ccctct cctcta ctctat tctatg ctatga tatgac atgaca tgacaa gacaat acaatg caatgt aatgtg atgtgg tgtgga gtggag tggaga ggagaa gagaaa agaaac gaaact aaactc aactct actctt ctcttt tctttc ctttcc tttcca ttccag tccagg ccaggt caggtt aggttt ggtttt gttttg ttttga tttgag ttgaga tgagat gagata agatag gataga atagaa tagaaa agaaac gaaact aaactg aactgt actgtg ctgtga tgtgaa gtgaag tgaaga gaagaa aagaac agaaca gaacaa aacaac acaacc caacct aacctc acctca cctcag ctcagg tcagga caggat aggatc ggatcc gatcct atcctt tccttt cctttt cttttt ttttta ttttaa tttaat ttaata taataa aataat ataatg taatgc aatgct atgctg tgctgt gctgta ctgtaa tgtaaa gtaaag taaaga aaagaa aagaaa agaaac gaaacg aaacgt aacgtt acgttt cgtttg gtttga tttgat ttgatg tgatga gatgac atgaca tgacag gacaga acagac cagaca agacag gacaga acagaa cagaag agaagg gaagga aaggat aggatt ggattg gattgg attggc ttggct tggctg ggctgc gctgcc ctgcct tgcctt gccttt cctttt ctttta ttttat tttatc ttatca tatcag atcagg tcaggg cagggg aggggg gggggc ggggct gggctt ggcttg gcttgg cttgga ttggac tggact ggactc gactcc actcca ctccag tccagc ccagct cagctt agcttg gcttgg cttggt ttggtt tggttg ggttgc gttgct ttgctg tgctgc gctgcc ctgcca tgccac gccact ccactc cactct actctg ctctgt tctgtt ctgttg tgttga gttgaa ttgaag tgaagc gaagca aagcag agcagc gcagct cagctg agctga gctgaa ctgaaa tgaaag gaaaga aaagaa aagaag agaagc gaagcc aagccc agccca gcccaa cccaag ccaagt caagta aagtac agtaca gtacag tacagt acagta cagtat agtatc gtatcc tatcct atcctc tcctct cctctc ctctcc tctcca ctccag tccaga ccagac cagaca agacat gacatt acattt catttg atttgc tttgca ttgcaa tgcaat gcaatt caattg aattgg attggc ttggca tggcat ggcatg gcatgg catgga atggaa tggaag ggaaga gaagac aagaca agacag gacagc acagcc cagccc agcccc gccccg ccccga cccgat ccgatt cgattt gattta atttac tttact ttactg tactgg actggc ctggct tggctg ggctgc gctgct ctgcta tgctag gctaga ctagaa tagaaa agaaag gaaagg aaaggt aaggtg aggtgg ggtggc gtggca tggcag ggcaga gcagat cagatc agatca gatcat atcata tcatat catatt atattg tattgg attgga ttggaa tggaag ggaagt gaagtg aagtga agtgaa gtgaac tgaaca gaacat aacatt acatta cattat attatg ttatga tatgaa atgaag tgaagt gaagtc aagtcc agtcct gtcctt tccttt cctttt cttttt ttttta ttttaa tttaac ttaact taactc aactct actctg ctctga tctgag ctgagg tgagga gaggaa aggaag ggaagg gaaggc aaggca aggcat ggcatt gcattc cattca attcag ttcagg tcaggc caggct aggctc ggctct gctctg ctctgg tctgga ctggat tggatg ggatga gatgaa atgaag tgaagt gaagtc aagtca agtcat gtcata tcatat catatt atattt tatttt attttc ttttcc tttcct ttcctt tccttg ccttgg cttgga ttggaa tggaaa ggaaac gaaact aaactt aactta acttat cttatg ttatga tatgac atgaca tgacat gacatt acatta cattac attaca ttacaa tacaac acaaca caacag aacagt acagtt cagttc agttcg gttcgt ttcgtg tcgtgc cgtgct gtgctt tgcttc gcttca cttcag ttcagt tcagta cagtag agtagg gtaggt taggta aggtat ggtatg gtatgt tatgta atgtat tgtatt gtattt tattta atttaa tttaat ttaatt taattt aatttc atttcc tttcca ttccaa tccaag ccaagt caagta aagtat agtata gtatat tatatt atattc tattcg attcgg ttcgga tcggaa cggaag ggaaga gaagaa aagaac agaaca gaacac aacaca acacag cacaga acagat cagata agatag gatagc atagcg tagcgt agcgtg gcgtgg cgtggt gtggtg tggtga ggtgat gtgatc tgatct gatctt atcttc tcttct cttctc ttctct tctctg ctctgg tctgga ctggag tggaga ggagaa gagaag agaagg gaagga aaggat aggatc ggatca gatcag atcaga tcagat cagatg agatga gatgaa atgaac tgaact gaactt aactta acttac cttacg ttacgc tacgca acgcag cgcagg gcaggg cagggt agggtt gggtta ggttac gttaca ttacat tacata acatat catata atatat tatatt atattt tatttt attttc ttttca tttcac ttcaca tcacaa cacaag acaagg caaggc aaggct aggctc ggctcc gctcct ctcctt tccttc ccttct cttctc ttctcc tctcct ctcctg tcctga cctgaa ctgaaa tgaaaa gaaaaa aaaaag aaaagc aaagcc aagccg agccga gccgag ccgagg cgagga gaggag aggagg ggagga gaggag aggaga ggagag gagagt agagtg gagtga agtgag gtgaga tgagag gagagg agaggc gaggct aggctt ggcttc gcttct cttctg ttctga tctgag ctgagg tgaggg gaggga agggaa gggaac ggaact gaactc aactct actcta ctctat tctatt ctattt tatttg atttgt tttgtt ttgttt tgtttg gtttga tttgat ttgatg tgatgt gatgtt atgttc tgttct gttctc ttctcc tctccg ctccgc tccgcg ccgcgc cgcgca gcgcag cgcaga gcagat cagatc agatcg gatcga atcgaa tcgaac cgaact gaacta aactac actact ctactg tactgc actgct ctgctg tgctgc gctgcc ctgccc tgccca gcccat cccatg ccatgg catggt atggtc tggtct ggtctt gtcttg tcttga cttgaa ttgaac tgaact gaactg aactga actgag ctgaga tgagag gagagt agagtc gagtcc agtccc gtccca tcccat cccatt ccattt catttc atttct tttcta ttctag tctaga ctagat tagatc agatca gatcat atcatc tcatcg catcga atcgat tcgatt cgattt gatttt attttc ttttct tttctt ttcttc tcttcc cttcct ttccta tcctat cctatt ctatta tattac attact ttactt tacttg acttgt cttgtc ttgtct tgtctc gtctct tctctg ctctgc tctgcc ctgcca tgccac gccacc ccacca caccag accaga ccagaa cagaaa agaaat gaaatg aaatga aatgag atgaga tgagaa gagaat agaatt gaattc aattcc attcca ttccaa tccaaa ccaaag caaaga aaagaa aagaat agaatg gaatgg aatggg atggga tgggat gggata ggatag gataga atagaa tagaaa agaaaa gaaaaa aaaaac aaaaca aaacat aacatc acatct catctc atctcc tctcct ctcctg tcctga cctgag ctgaga tgagag gagaga agagag gagaga agagac gagacg agacgt gacgtt acgttt cgtttg gtttga tttgag ttgagg tgagga gaggat aggatt ggattc gattcc attcca ttccaa tccaat ccaatc caatct aatctg atctga tctgat ctgata tgatac gatacc ataccc taccca acccaa cccaaa ccaaag caaaga aaagag aagaga agagat gagatt agattc gattct attctc ttctct tctctg ctctgg tctggc ctggcg tggcga ggcgac gcgacc cgacca gaccaa accaaa ccaaaa caaaag aaaaga aaagaa aagaag agaagc gaagcc aagcct agcctt gccttc ccttca cttcag ttcagt tcagtg cagtga agtgat gtgatg tgatgg gatgga atggaa tggaat ggaata gaataa aataac ataact taactt aacttc acttca cttcag ttcagt tcagtt cagtta agttaa gttaag ttaaga taagaa aagaat agaatt gaattc aattcc attcct ttcctg tcctgg cctggt ctggtt tggttt ggttta gtttaa tttaag ttaaga taagat aagatt agattt gatttt atttta ttttac tttaca ttacag tacagg acagga caggaa aggaat ggaata gaatac aatacg atacgt tacgtt acgttg cgttga gttgaa ttgaac tgaaca gaacat aacatc acatca catcag atcagg tcaggt caggtt aggttg ggttga gttgat ttgatg tgatga gatgat atgatg tgatgc gatgca atgcaa tgcaat gcaatg caatga aatgat atgatg tgatgg gatggc atggca tggcaa ggcaaa gcaaat caaatg aaatgc aatgca atgcag tgcagc gcagcc cagccc agccca gcccag cccaga ccagaa cagaaa agaaat gaaatt aaattt aatttc atttcc tttccc ttccct tccctt cccttc ccttca cttcaa ttcaat tcaata caatac aatact atactc tactcc actcct ctccta tcctaa cctaaa ctaaaa taaaac aaaacc aaacca aaccaa accaaa ccaaag caaaga aaagaa aagaag agaagg gaagga aaggat aggata ggatat gatatt atatta tattac attact ttacta tactac actacc ctaccg taccgt accgtc ccgtca cgtcaa gtcaag tcaagt caagtc aagtct agtctt gtcttt tctttg ctttga tttgaa ttgaac tgaacg gaacgc aacgcc acgcca cgccat gccatt ccatta cattac attacc ttaccc taccca acccag cccagg ccaggc caggcc aggccg ggccgg gccggg ccgggc cgggct gggctg ggctga gctgac ctgact tgactg gactgg actggc ctggct tggctg ggctga gctgag ctgagc tgagcc gagcca agccat gccatt ccatta cattac attact ttactg tactgg actgga ctggat tggatg ggatgc gatgcc atgccc tgccca gcccaa cccaag ccaagt caagtg aagtgg agtgga gtggat tggatc ggatca gatcaa atcaat tcaatg caatgc aatgcc atgcca tgccac gccact ccactg cactga actgac ctgacc tgaccc gaccct accctt cccttc ccttct cttctg ttctgc tctgcc ctgccc tgcccg gcccgc cccgca ccgcac cgcacg gcacgc cacgct acgctg cgctga gctgac ctgacc tgaccc gaccca acccac cccact ccacta cactac actaca ctacaa tacaag acaagt caagtc aagtca agtcag gtcagc tcagct cagctg agctgt gctgtc ctgtca tgtcaa gtcaaa tcaaag caaagc aaagct aagctt agctta gcttag\n"
     ]
    }
   ],
   "source": [
    "for item in range(len(human_text)):\n",
    "    human_text[item]=\" \".join(human_text[item])\n",
    "print(human_text[2])"
   ]
  },
  {
   "cell_type": "code",
   "execution_count": 16,
   "id": "82343a13",
   "metadata": {},
   "outputs": [],
   "source": [
    "from sklearn.feature_extraction.text import CountVectorizer\n",
    "\n",
    "cv=CountVectorizer(ngram_range=(4,4))\n",
    "X=cv.fit_transform(human_text)"
   ]
  },
  {
   "cell_type": "code",
   "execution_count": 17,
   "id": "c3f8163a",
   "metadata": {},
   "outputs": [],
   "source": [
    "Y=human_dt['class']"
   ]
  },
  {
   "cell_type": "code",
   "execution_count": 18,
   "id": "6f7a61e8",
   "metadata": {},
   "outputs": [],
   "source": [
    "#Splitting the training and testing data:\n",
    "from sklearn.model_selection import train_test_split\n",
    "\n",
    "Xtrain,Xtest,Ytrain,Ytest=train_test_split(X,Y,test_size=0.2,random_state=0)"
   ]
  },
  {
   "cell_type": "code",
   "execution_count": 19,
   "id": "4a465e3a",
   "metadata": {},
   "outputs": [
    {
     "data": {
      "text/plain": [
       "(3504, 232414)"
      ]
     },
     "execution_count": 19,
     "metadata": {},
     "output_type": "execute_result"
    }
   ],
   "source": [
    "Xtrain.shape"
   ]
  },
  {
   "cell_type": "code",
   "execution_count": 20,
   "id": "63d10789",
   "metadata": {},
   "outputs": [
    {
     "data": {
      "text/plain": [
       "(876, 232414)"
      ]
     },
     "execution_count": 20,
     "metadata": {},
     "output_type": "execute_result"
    }
   ],
   "source": [
    "Xtest.shape"
   ]
  },
  {
   "cell_type": "code",
   "execution_count": 21,
   "id": "9accd93a",
   "metadata": {},
   "outputs": [
    {
     "data": {
      "text/plain": [
       "(3504,)"
      ]
     },
     "execution_count": 21,
     "metadata": {},
     "output_type": "execute_result"
    }
   ],
   "source": [
    "Ytrain.shape"
   ]
  },
  {
   "cell_type": "code",
   "execution_count": 22,
   "id": "996a3b5d",
   "metadata": {},
   "outputs": [
    {
     "data": {
      "text/plain": [
       "(876,)"
      ]
     },
     "execution_count": 22,
     "metadata": {},
     "output_type": "execute_result"
    }
   ],
   "source": [
    "Ytest.shape"
   ]
  },
  {
   "cell_type": "code",
   "execution_count": 23,
   "id": "445c1ca1",
   "metadata": {},
   "outputs": [
    {
     "name": "stderr",
     "output_type": "stream",
     "text": [
      "C:\\Users\\a0g0btd\\Anaconda3\\envs\\DNASequence\\lib\\site-packages\\seaborn\\_decorators.py:36: FutureWarning: Pass the following variable as a keyword arg: x. From version 0.12, the only valid positional argument will be `data`, and passing other arguments without an explicit keyword will result in an error or misinterpretation.\n",
      "  warnings.warn(\n"
     ]
    },
    {
     "data": {
      "text/plain": [
       "<AxesSubplot:xlabel='class', ylabel='count'>"
      ]
     },
     "execution_count": 23,
     "metadata": {},
     "output_type": "execute_result"
    },
    {
     "data": {
      "image/png": "[encoded data removed]",
      "text/plain": [
       "<Figure size 1440x1440 with 1 Axes>"
      ]
     },
     "metadata": {
      "needs_background": "light"
     },
     "output_type": "display_data"
    }
   ],
   "source": [
    "#Check whether the target class is balanced or not:\n",
    "\n",
    "plt.figure(figsize=(20,20))\n",
    "sns.countplot(human_dt['class'])"
   ]
  },
  {
   "cell_type": "code",
   "execution_count": 63,
   "id": "af1a25a9",
   "metadata": {},
   "outputs": [],
   "source": [
    "#Inference: we have relatively balanced dataset.But this will not affect the prediction and also do not overfit"
   ]
  },
  {
   "cell_type": "code",
   "execution_count": 25,
   "id": "403f2a9e",
   "metadata": {},
   "outputs": [
    {
     "data": {
      "text/plain": [
       "MultinomialNB()"
      ]
     },
     "execution_count": 25,
     "metadata": {},
     "output_type": "execute_result"
    }
   ],
   "source": [
    "#Applying the MultinomialNB for classification:\n",
    "\n",
    "from sklearn.naive_bayes import MultinomialNB\n",
    "\n",
    "mnb=MultinomialNB()\n",
    "\n",
    "mnb.fit(Xtrain,Ytrain)"
   ]
  },
  {
   "cell_type": "code",
   "execution_count": 26,
   "id": "bc7468c2",
   "metadata": {},
   "outputs": [],
   "source": [
    "pred=mnb.predict(Xtest)"
   ]
  },
  {
   "cell_type": "code",
   "execution_count": 27,
   "id": "5854836d",
   "metadata": {},
   "outputs": [
    {
     "data": {
      "text/plain": [
       "array([3, 6, 6, 6, 3, 6, 6, 6, 4, 1, 6, 6, 6, 3, 6, 6, 6, 6, 6, 6, 0, 3,\n",
       "       4, 3, 1, 5, 0, 3, 6, 6, 6, 6, 5, 4, 3, 6, 4, 3, 1, 6, 0, 0, 3, 4,\n",
       "       6, 2, 1, 6, 6, 1, 4, 6, 6, 4, 0, 3, 3, 6, 4, 6, 6, 5, 3, 6, 3, 6,\n",
       "       5, 1, 6, 6, 5, 1, 6, 6, 3, 0, 6, 3, 5, 4, 6, 2, 5, 3, 1, 5, 2, 6,\n",
       "       4, 1, 4, 3, 6, 4, 2, 1, 6, 3, 3, 4, 3, 6, 3, 6, 0, 4, 1, 2, 3, 6,\n",
       "       0, 6, 6, 0, 3, 1, 4, 6, 4, 5, 3, 3, 0, 6, 5, 6, 6, 0, 0, 2, 4, 1,\n",
       "       2, 6, 3, 3, 0, 6, 6, 3, 4, 1, 4, 3, 1, 6, 3, 0, 6, 5, 0, 1, 6, 4,\n",
       "       6, 6, 5, 6, 2, 4, 1, 0, 2, 0, 1, 0, 6, 6, 3, 3, 5, 6, 0, 4, 1, 4,\n",
       "       0, 6, 2, 0, 6, 0, 5, 3, 1, 5, 1, 0, 6, 0, 0, 6, 6, 6, 0, 3, 4, 6,\n",
       "       4, 2, 6, 1, 3, 6, 6, 3, 2, 6, 3, 1, 3, 4, 3, 1, 6, 0, 1, 1, 0, 5,\n",
       "       6, 6, 6, 5, 4, 4, 4, 1, 4, 6, 5, 3, 6, 1, 5, 6, 6, 2, 4, 3, 3, 6,\n",
       "       4, 1, 2, 3, 6, 6, 4, 6, 1, 1, 3, 2, 4, 6, 6, 6, 0, 4, 6, 3, 4, 0,\n",
       "       3, 3, 6, 4, 4, 6, 4, 6, 0, 6, 3, 6, 6, 3, 0, 3, 3, 2, 6, 6, 4, 3,\n",
       "       2, 6, 6, 2, 1, 1, 0, 6, 3, 1, 6, 1, 6, 5, 6, 3, 1, 2, 6, 0, 1, 1,\n",
       "       6, 4, 0, 0, 6, 6, 5, 6, 3, 6, 2, 6, 1, 1, 5, 6, 4, 6, 4, 6, 1, 2,\n",
       "       6, 6, 0, 3, 0, 4, 3, 4, 4, 4, 3, 6, 0, 1, 2, 4, 0, 1, 3, 6, 6, 0,\n",
       "       2, 5, 1, 4, 4, 6, 3, 1, 0, 4, 1, 2, 0, 6, 4, 5, 2, 4, 4, 5, 2, 1,\n",
       "       4, 4, 5, 6, 1, 6, 6, 3, 1, 0, 3, 3, 1, 5, 5, 0, 0, 2, 0, 6, 6, 2,\n",
       "       6, 0, 5, 6, 6, 4, 6, 4, 1, 6, 0, 3, 3, 3, 0, 0, 6, 6, 5, 3, 4, 4,\n",
       "       4, 0, 6, 4, 1, 6, 5, 0, 4, 2, 4, 6, 3, 3, 6, 6, 4, 2, 3, 4, 0, 6,\n",
       "       6, 3, 3, 4, 3, 6, 5, 3, 4, 4, 6, 1, 6, 6, 5, 6, 5, 1, 3, 4, 6, 0,\n",
       "       4, 6, 6, 0, 3, 3, 2, 2, 0, 3, 6, 4, 6, 6, 2, 1, 2, 6, 3, 4, 3, 1,\n",
       "       4, 5, 4, 4, 3, 2, 6, 4, 3, 6, 3, 6, 6, 6, 1, 4, 4, 1, 3, 0, 6, 4,\n",
       "       2, 2, 4, 3, 6, 6, 0, 4, 1, 3, 6, 6, 6, 4, 3, 6, 6, 3, 4, 5, 4, 1,\n",
       "       3, 3, 3, 0, 6, 3, 4, 3, 6, 4, 6, 6, 4, 1, 0, 6, 1, 1, 0, 3, 6, 3,\n",
       "       1, 6, 1, 4, 0, 0, 6, 3, 6, 1, 6, 3, 4, 1, 3, 6, 4, 4, 6, 6, 6, 6,\n",
       "       3, 3, 5, 2, 6, 5, 6, 2, 4, 0, 6, 3, 2, 4, 3, 2, 3, 0, 6, 2, 0, 6,\n",
       "       3, 3, 2, 4, 4, 2, 4, 1, 5, 4, 4, 3, 6, 5, 4, 3, 4, 4, 6, 6, 4, 3,\n",
       "       6, 1, 4, 6, 6, 4, 4, 1, 2, 6, 4, 5, 4, 1, 1, 1, 4, 4, 2, 1, 6, 3,\n",
       "       4, 4, 0, 1, 3, 6, 3, 6, 0, 6, 4, 3, 6, 6, 3, 6, 1, 4, 4, 0, 6, 4,\n",
       "       1, 2, 4, 0, 4, 3, 0, 4, 0, 1, 3, 6, 0, 6, 6, 6, 4, 6, 6, 0, 4, 6,\n",
       "       5, 4, 3, 1, 6, 6, 6, 0, 6, 1, 4, 5, 4, 6, 6, 1, 5, 4, 4, 4, 6, 3,\n",
       "       1, 6, 4, 6, 5, 6, 2, 3, 1, 6, 6, 4, 1, 4, 2, 6, 6, 1, 0, 6, 1, 4,\n",
       "       0, 0, 6, 6, 0, 6, 6, 3, 6, 0, 4, 6, 4, 0, 4, 0, 1, 4, 4, 6, 0, 6,\n",
       "       4, 0, 3, 6, 4, 0, 1, 3, 4, 4, 2, 3, 6, 4, 2, 6, 1, 0, 6, 3, 3, 6,\n",
       "       4, 6, 2, 4, 5, 2, 6, 6, 1, 6, 4, 1, 1, 5, 1, 4, 3, 6, 1, 4, 3, 2,\n",
       "       6, 3, 0, 6, 3, 6, 2, 6, 4, 0, 6, 5, 5, 2, 0, 6, 4, 2, 5, 6, 4, 5,\n",
       "       6, 6, 6, 2, 0, 6, 6, 0, 0, 5, 6, 1, 6, 1, 6, 6, 3, 6, 0, 3, 4, 4,\n",
       "       3, 6, 6, 3, 6, 6, 4, 6, 4, 6, 6, 6, 6, 1, 4, 1, 6, 4, 3, 0, 3, 3,\n",
       "       3, 6, 5, 2, 4, 1, 6, 2, 0, 6, 4, 2, 1, 6, 6, 4, 6, 6], dtype=int64)"
      ]
     },
     "execution_count": 27,
     "metadata": {},
     "output_type": "execute_result"
    }
   ],
   "source": [
    "pred"
   ]
  },
  {
   "cell_type": "code",
   "execution_count": 28,
   "id": "6a7ef3c6",
   "metadata": {},
   "outputs": [
    {
     "name": "stdout",
     "output_type": "stream",
     "text": [
      "0.978310502283105\n",
      "********************************************************************************\n",
      "[[ 95   0   0   0   2   0   0]\n",
      " [  0 100   0   1   0   0   2]\n",
      " [  0   0  61   0   0   0   2]\n",
      " [  0   0   0 134   1   0   1]\n",
      " [  1   0   0   1 152   1   0]\n",
      " [  0   0   0   0   0  48   0]\n",
      " [  0   0   0   0   3   4 267]]\n",
      "********************************************************************************\n",
      "              precision    recall  f1-score   support\n",
      "\n",
      "           0       0.99      0.98      0.98        97\n",
      "           1       1.00      0.97      0.99       103\n",
      "           2       1.00      0.97      0.98        63\n",
      "           3       0.99      0.99      0.99       136\n",
      "           4       0.96      0.98      0.97       155\n",
      "           5       0.91      1.00      0.95        48\n",
      "           6       0.98      0.97      0.98       274\n",
      "\n",
      "    accuracy                           0.98       876\n",
      "   macro avg       0.97      0.98      0.98       876\n",
      "weighted avg       0.98      0.98      0.98       876\n",
      "\n",
      "********************************************************************************\n"
     ]
    }
   ],
   "source": [
    "from sklearn.metrics import accuracy_score,confusion_matrix,classification_report\n",
    "\n",
    "accuracy=accuracy_score(Ytest,pred)\n",
    "print(accuracy)\n",
    "print(\"*\"*80)\n",
    "\n",
    "confusion_matrix=confusion_matrix(Ytest,pred)\n",
    "print(confusion_matrix)\n",
    "print(\"*\"*80)\n",
    "\n",
    "classification_report=classification_report(Ytest,pred)\n",
    "print(classification_report)\n",
    "print(\"*\"*80)"
   ]
  },
  {
   "cell_type": "code",
   "execution_count": 29,
   "id": "bb4f43c4",
   "metadata": {},
   "outputs": [],
   "source": [
    "#Applying hyper-parametre tuning to MultinomialNB classifier:\n",
    "\n",
    "alpha=[0.1,0.01,0.001]\n",
    "\n",
    "from sklearn.model_selection import GridSearchCV\n",
    "\n",
    "gsv=GridSearchCV(estimator=MultinomialNB(),param_grid={\"alpha\":[0.1,0.01,0.001]},cv=5)\n",
    "\n",
    "gsv.fit(Xtrain,Ytrain)\n",
    "\n",
    "gsv_pred=gsv.predict(Xtest)"
   ]
  },
  {
   "cell_type": "code",
   "execution_count": 31,
   "id": "554a0099",
   "metadata": {},
   "outputs": [
    {
     "name": "stdout",
     "output_type": "stream",
     "text": [
      "0.9726027397260274\n",
      "********************************************************************************\n",
      "[[ 96   0   0   0   0   0   1]\n",
      " [  0 101   0   1   0   0   1]\n",
      " [  0   0  61   0   0   0   2]\n",
      " [  0   0   0 133   0   0   3]\n",
      " [  3   0   0   0 142   0  10]\n",
      " [  0   0   0   0   0  48   0]\n",
      " [  2   0   0   0   1   0 271]]\n",
      "********************************************************************************\n",
      "              precision    recall  f1-score   support\n",
      "\n",
      "           0       0.95      0.99      0.97        97\n",
      "           1       1.00      0.98      0.99       103\n",
      "           2       1.00      0.97      0.98        63\n",
      "           3       0.99      0.98      0.99       136\n",
      "           4       0.99      0.92      0.95       155\n",
      "           5       1.00      1.00      1.00        48\n",
      "           6       0.94      0.99      0.96       274\n",
      "\n",
      "    accuracy                           0.97       876\n",
      "   macro avg       0.98      0.97      0.98       876\n",
      "weighted avg       0.97      0.97      0.97       876\n",
      "\n",
      "********************************************************************************\n"
     ]
    }
   ],
   "source": [
    "from sklearn.metrics import accuracy_score,confusion_matrix,classification_report\n",
    "\n",
    "accuracy=accuracy_score(Ytest,gsv_pred)\n",
    "print(accuracy)\n",
    "print(\"*\"*80)\n",
    "\n",
    "confusion_matrix=confusion_matrix(Ytest,gsv_pred)\n",
    "print(confusion_matrix)\n",
    "print(\"*\"*80)\n",
    "\n",
    "classification_report=classification_report(Ytest,gsv_pred)\n",
    "print(classification_report)\n",
    "print(\"*\"*80)"
   ]
  },
  {
   "cell_type": "code",
   "execution_count": 32,
   "id": "e679c9f4",
   "metadata": {},
   "outputs": [
    {
     "data": {
      "text/plain": [
       "MultinomialNB(alpha=0.1)"
      ]
     },
     "execution_count": 32,
     "metadata": {},
     "output_type": "execute_result"
    }
   ],
   "source": [
    "gsv.best_estimator_"
   ]
  },
  {
   "cell_type": "code",
   "execution_count": 33,
   "id": "8f9a11dd",
   "metadata": {},
   "outputs": [
    {
     "data": {
      "text/plain": [
       "{'alpha': 0.1}"
      ]
     },
     "execution_count": 33,
     "metadata": {},
     "output_type": "execute_result"
    }
   ],
   "source": [
    "gsv.best_params_"
   ]
  },
  {
   "cell_type": "code",
   "execution_count": 34,
   "id": "fd9ee560",
   "metadata": {},
   "outputs": [
    {
     "data": {
      "text/plain": [
       "0.9637558589769716"
      ]
     },
     "execution_count": 34,
     "metadata": {},
     "output_type": "execute_result"
    }
   ],
   "source": [
    "gsv.best_score_"
   ]
  },
  {
   "cell_type": "code",
   "execution_count": 35,
   "id": "6e454a1d",
   "metadata": {},
   "outputs": [
    {
     "data": {
      "text/html": [
       "<div>\n",
       "<style scoped>\n",
       "    .dataframe tbody tr th:only-of-type {\n",
       "        vertical-align: middle;\n",
       "    }\n",
       "\n",
       "    .dataframe tbody tr th {\n",
       "        vertical-align: top;\n",
       "    }\n",
       "\n",
       "    .dataframe thead th {\n",
       "        text-align: right;\n",
       "    }\n",
       "</style>\n",
       "<table border=\"1\" class=\"dataframe\">\n",
       "  <thead>\n",
       "    <tr style=\"text-align: right;\">\n",
       "      <th></th>\n",
       "      <th>class</th>\n",
       "      <th>words</th>\n",
       "    </tr>\n",
       "  </thead>\n",
       "  <tbody>\n",
       "    <tr>\n",
       "      <th>0</th>\n",
       "      <td>4</td>\n",
       "      <td>[atgcca, tgccac, gccaca, ccacag, cacagc, acagc...</td>\n",
       "    </tr>\n",
       "    <tr>\n",
       "      <th>1</th>\n",
       "      <td>4</td>\n",
       "      <td>[atgaac, tgaacg, gaacga, aacgaa, acgaaa, cgaaa...</td>\n",
       "    </tr>\n",
       "    <tr>\n",
       "      <th>2</th>\n",
       "      <td>6</td>\n",
       "      <td>[atggaa, tggaaa, ggaaac, gaaaca, aaacac, aacac...</td>\n",
       "    </tr>\n",
       "    <tr>\n",
       "      <th>3</th>\n",
       "      <td>6</td>\n",
       "      <td>[atgtgc, tgtgca, gtgcac, tgcact, gcacta, cacta...</td>\n",
       "    </tr>\n",
       "    <tr>\n",
       "      <th>4</th>\n",
       "      <td>0</td>\n",
       "      <td>[atgagc, tgagcc, gagccg, agccgg, gccggc, ccggc...</td>\n",
       "    </tr>\n",
       "  </tbody>\n",
       "</table>\n",
       "</div>"
      ],
      "text/plain": [
       "   class                                              words\n",
       "0      4  [atgcca, tgccac, gccaca, ccacag, cacagc, acagc...\n",
       "1      4  [atgaac, tgaacg, gaacga, aacgaa, acgaaa, cgaaa...\n",
       "2      6  [atggaa, tggaaa, ggaaac, gaaaca, aaacac, aacac...\n",
       "3      6  [atgtgc, tgtgca, gtgcac, tgcact, gcacta, cacta...\n",
       "4      0  [atgagc, tgagcc, gagccg, agccgg, gccggc, ccggc..."
      ]
     },
     "execution_count": 35,
     "metadata": {},
     "output_type": "execute_result"
    }
   ],
   "source": [
    "#Now applying the k-mers technique for Dog and Chimpanzee DNA Sequences:\n",
    "\n",
    "dog_dt.head()"
   ]
  },
  {
   "cell_type": "code",
   "execution_count": 41,
   "id": "9e7d2274",
   "metadata": {},
   "outputs": [
    {
     "name": "stdout",
     "output_type": "stream",
     "text": [
      "atggaa tggaaa ggaaac gaaaca aaacac aacacc acaccc caccct accctt cccttc ccttct cttcta ttctac tctacg ctacgg tacggc acggcg cggcga ggcgat gcgatg cgatga gatgag atgagg tgaggc gaggcg aggcgc ggcgct gcgctg cgctga gctgag ctgagc tgagcg gagcgg agcggc gcggcc cggcct ggcctg gcctgg cctggg ctgggc tgggcg gggcgg ggcggc gcggcg cggcgg ggcggc gcggcg cggcgt ggcgtc gcgtca cgtcag gtcagt tcagta cagtag agtagc gtagca tagcag agcagt gcagtg cagtgg agtggc gtggcg tggcgg ggcggc gcggcg cggcgg ggcggt gcggtg cggtgg ggtggt gtggta tggtag ggtagc gtagct tagctt agcttc gcttcg cttcgc ttcgcg tcgcgt cgcgtc gcgtcc cgtccc gtcccc tccccg ccccgg cccggg ccgggt cgggtc gggtcg ggtcgc gtcgcc tcgcct cgcctg gcctgt cctgtt ctgttt tgtttc gtttcc tttccc ttcccg tcccgg cccggg ccgggg cggggc ggggcg gggcgc ggcgcc gcgccc cgcccc gccccc cccccg ccccga cccgac ccgacg cgacgg gacggc acggcg cggcgg ggcggc gcggcg cggcga ggcgac gcgact cgactg gactgg actggc ctggca tggcag ggcagc gcagca cagcat agcatg gcatga catgat atgatg tgatga gatgaa atgaag tgaaga gaagaa aagaaa agaaag gaaaga aaagac aagacg agacgc gacgcg acgcgc cgcgct gcgctg cgctga gctgac ctgacg tgacgc gacgct acgctg cgctga gctgag ctgagc tgagcc gagcct agcctg gcctga cctgag ctgagc tgagcg gagcga agcgag gcgagc cgagca gagcag agcagg gcaggt caggtg aggtgg ggtggc gtggcg tggcgg ggcggc gcggcg cggcgg ggcggc gcggcg cggcgc ggcgct gcgctc cgctca gctcaa ctcaag tcaagc caagcc aagccc agcccg gcccgc cccgcg ccgcgg cgcggc gcggcc cggccg ggccgc gccgcg ccgcgc cgcgcc gcgccg cgccgc gccgcc ccgccc cgcccc gccccc cccccg ccccgg cccggc ccggcc cggccc ggcccc gccccc cccccc ccccct cccctg ccctgc cctgcg ctgcgc tgcgca gcgcac cgcacc gcaccg caccga accgac ccgacg cgacgg gacggc acggcg cggcgc ggcgcc gcgccc cgcccc gcccca ccccag cccagg ccaggc caggca aggcac ggcacg gcacgg cacggc acggcg cggcgc ggcgcc gcgccc cgcccc gccccc cccccc cccccg ccccga cccgac ccgacg cgacgg gacggc acggcc cggcct ggccta gcctac cctact ctactc tactct actctc ctctcc tctcct ctcctc tcctcg cctcgc ctcgcc tcgccc cgcccg gcccga cccgac ccgacc cgacct gacctg acctgg cctggg ctgggg tggggc ggggct gggctg ggctgc gctgct ctgctc tgctca gctcaa ctcaag tcaagc caagct aagctc agctcg gctcgc ctcgcc tcgcct cgcctc gcctcg cctcgc ctcgcc tcgccc cgcccg gcccga cccgag ccgagc cgagct gagctc agctcg gctcga ctcgag tcgagc cgagcg gagcgc agcgcc gcgcct cgccta gcctaa cctaat ctaatc taatca aatcat atcatc tcatcc catcca atccag tccagt ccagtc cagtcc agtcca gtccaa tccaac ccaacg caacgg aacggg acgggc cgggct gggctg ggctgg gctggt ctggtc tggtca ggtcac gtcacc tcacca caccac accacc ccacca caccac accacg ccacgc cacgcc acgccg cgccga gccgac ccgacg cgacga gacgag acgagc cgagca gagcac agcact gcactc cactca actcag ctcagt tcagtt cagttc agttcc gttcct ttcctc tcctct cctcta ctctac tctacc ctaccc tacccc acccca ccccaa cccaag ccaagg caaggt aaggtg aggtgg ggtggc gtggcg tggcgg ggcggc gcggcc cggcca ggccag gccagc ccagcg cagcga agcgag gcgagg cgagga gaggag aggagc ggagca gagcag agcagg gcagga caggag aggagt ggagtt gagttt agtttg gtttgc tttgcc ttgccg tgccga gccgag ccgagg cgaggg gagggc agggct gggctt ggcttc gcttcg cttcgt ttcgtc tcgtca cgtcaa gtcaag tcaagg caaggc aaggcc aggccc ggccct gccctg ccctgg cctgga ctggaa tggaag ggaaga gaagac aagact agactt gacttg acttgc cttgca ttgcac tgcaca gcacaa cacaag acaagc caagca aagcag agcaga gcagaa cagaac agaacc gaacca aaccag accagc ccagct cagctg agctgg gctggg ctgggc tgggca gggcac ggcacg gcacgg cacggg acgggc cgggcg gggcgc ggcgcg gcgcgg cgcggc gcggcc cggcct ggcctc gcctcg cctcgg ctcggc tcggca cggcag ggcagc gcagcc cagccg agccgc gccgcg ccgcgg cgcggc gcggcc cggccg ggccgc gccgcc ccgccg cgccgg gccgga ccggag cggagg ggagga gaggac aggacc ggaccc gaccct accctc ccctcg cctcgg ctcggg tcgggc cgggca gggcac ggcacg gcacgg cacggc acggct cggctg ggctgc gctgcg ctgcgg tgcggg gcgggc cgggcg gggcgc ggcgcc gcgccg cgccgc gccgcg ccgcgc cgcgcc gcgcct cgcctc gcctcc cctcct ctcctg tcctgg cctggc ctggcg tggcga ggcgaa gcgaac cgaact gaactg aactgg actggc ctggcc tggccc ggcccc gcccca ccccag cccagc ccagcg cagcgg agcggc gcggca cggcag ggcagc gcagcc cagcca agccac gccacg ccacgc cacgcc acgccc cgcccg gcccga cccgag ccgagg cgaggc gaggcg aggcgc ggcgcc gcgccc cgcccg gcccgt cccgtc ccgtct cgtcta gtctac tctacg ctacgc tacgcg acgcga cgcgaa gcgaac cgaacc gaacct aacctg acctga cctgag ctgagc tgagca gagcag agcagc gcagct cagcta agctac gctacg ctacgc tacgcg acgcgg cgcggg gcgggc cgggcg gggcgg ggcggc gcggca cggcac ggcacc gcaccg caccgg accggg ccgggg cggggg gggggt ggggtt gggttc ggttcg gttcgg ttcggg tcgggg cggggg gggggg gggggt ggggtg gggtgc ggtgct gtgctg tgctgc gctgcg ctgcga tgcgac gcgacg cgacgg gacggt acggtc cggtcg ggtcgc gtcgcc tcgcct cgcctt gccttc ccttcg cttcgc ttcgcc tcgccg cgccgc gccgcg ccgcgg cgcgga gcggag cggagc ggagcc gagcct agcctg gcctgt cctgtg ctgtgc tgtgcc gtgccc tgccct gccctt cccttc ccttcc cttccc ttccct tccctc ccctcc cctccg ctccgc tccgcc ccgcca cgccac gccacc ccaccg caccgc accgcc ccgccc cgcccc gccccc ccccca ccccag cccagg ccaggc caggcg aggcgc ggcgcg gcgcgc cgcgct gcgctg cgctgg gctggg ctgggg tggggc ggggcc gggccg ggccgc gccgcc ccgccc cgcccc gccccg ccccgc cccgcc ccgcct cgcctg gcctga cctgac ctgacc tgaccg gaccgc accgcg ccgcgc cgcgct gcgctc cgctca gctcaa ctcaag tcaagg caagga aaggat aggatg ggatga gatgag atgagc tgagcc gagccg agccgc gccgca ccgcag cgcaga gcagac cagacg agacgg gacggt acggtg cggtgc ggtgcc gtgccc tgcccg gcccga cccgac ccgacg cgacgt gacgtg acgtgc cgtgcc gtgcca tgccaa gccaag ccaagc caagct aagctt agcttc gcttcg cttcgg ttcggc tcggcg cggcga ggcgag gcgaga cgagag gagagc agagcc gagccc agcccg gcccgc cccgcc ccgccg cgccgt gccgtt ccgttg cgttgt gttgtc ttgtcg tgtcgc gtcgcc tcgccc cgccca gcccat cccatc ccatcg catcga atcgac tcgaca cgacat gacatg acatgg catgga atggac tggaca ggacac gacacg acacgc cacgca acgcag cgcagg gcagga caggag aggagc ggagcg gagcgc agcgca gcgcat cgcatt gcatta cattaa attaag ttaagg taaggc aaggcg aggcgg ggcgga gcggag cggagc ggagcg gagcgc agcgca gcgcaa cgcaag gcaagc caagcg aagcgg agcggc gcggct cggctg ggctgc gctgcg ctgcgc tgcgca gcgcaa cgcaac gcaacc caaccg aaccgc accgca ccgcat cgcatc gcatcg catcgc atcgct tcgctg cgctgc gctgcc ctgcct tgcctc gcctct cctcta ctctaa tctaag ctaagt taagtg aagtgc agtgcc gtgccg tgccgc gccgca ccgcaa cgcaag gcaagc caagcg aagcgc agcgca gcgcaa cgcaag gcaagc caagct aagctg agctgg gctgga ctggag tggagc ggagcg gagcgc agcgca gcgcat cgcatc gcatct catctc atctcg tctcgc ctcgcg tcgcgc cgcgcc gcgcct cgcctc gcctcg cctcga ctcgag tcgagg cgagga gaggag aggaga ggagaa gagaaa agaaag gaaagt aaagtg aagtga agtgaa gtgaag tgaaga gaagac aagacg agacgc gacgct acgctc cgctca gctcaa ctcaag tcaaga caagag aagagc agagcc gagcca agccag gccaga ccagaa cagaac agaaca gaacac aacacg acacgg cacgga acggag cggagc ggagct gagctg agctgg gctggc ctggcg tggcgt ggcgtc gcgtcc cgtcca gtccac tccaca ccacag cacagc acagcg cagcga agcgag gcgagc cgagcc gagcct agcctg gcctgc cctgct ctgctg tgctgc gctgcg ctgcgc tgcgcg gcgcga cgcgag gcgagc cgagca gagcag agcagg gcaggt caggtg aggtgg ggtggc gtggcg tggcgc ggcgca gcgcag cgcagc gcagct cagctc agctca gctcaa ctcaag tcaagc caagca aagcag agcaga gcagaa cagaag agaagg gaaggt aaggtc aggtcc ggtcct gtcctc tcctca cctcag ctcagc tcagcc cagcca agccac gccacg ccacgt cacgtc acgtca cgtcaa gtcaac tcaaca caacag aacagc acagcg cagcgg agcggc gcggct cggctg ggctgc gctgcc ctgcca tgccag gccagc ccagct cagctg agctgc gctgct ctgctg tgctgc gctgcc ctgccc tgcccc gcccca ccccag cccagc ccagca cagcac agcacc gcacca caccag accagg ccaggt caggtg aggtgt ggtgtc gtgtcc tgtccg gtccgc tccgcg ccgcgt cgcgta gcgtac cgtact gtactg tactga\n"
     ]
    }
   ],
   "source": [
    "#Converting words into list :\n",
    "\n",
    "dog_text=[]\n",
    "\n",
    "for i in range(len(dog_dt['words'])):\n",
    "    dog_text.append(dog_dt['words'][i])\n",
    "for item in range(len(dog_text)):\n",
    "    dog_text[item]=\" \".join(dog_text[item])\n",
    "print(dog_text[2])"
   ]
  },
  {
   "cell_type": "code",
   "execution_count": 43,
   "id": "9d1bc8a7",
   "metadata": {},
   "outputs": [
    {
     "name": "stdout",
     "output_type": "stream",
     "text": [
      "atggcc tggcct ggcctc gcctcg cctcgc ctcgcg tcgcgc cgcgct gcgctg cgctgg gctggt ctggtg tggtgg ggtggc gtggcg tggcgg ggcggt gcggtg cggtgg ggtggc gtggcg tggcga ggcgac gcgacg cgacgc gacgcg acgcgg cgcggc gcggct cggctg ggctgc gctgct ctgctc tgctcc gctcct ctcctg tcctgg cctgga ctggag tggagg ggaggc gaggcc aggccg ggccgg gccggc ccggcg cggcgg ggcggc gcggcg cggcgc ggcgcg gcgcgg cgcgga gcggag cggagc ggagct gagctc agctcc gctccg ctccgg tccggg ccgggc cgggcc gggccc ggcccg gcccgg cccggc ccggct cggctc ggctcc gctccc ctcccc tcccca ccccag cccagg ccaggc caggcc aggccg ggccgt gccgtg ccgtgc cgtgcg gtgcgg tgcggg gcggga cgggac gggacc ggaccg gaccgt accgtc ccgtcg cgtcgg gtcggg tcgggg cggggc ggggcc gggccg ggccga gccgag ccgagc cgagcg gagcgc agcgcc gcgccg cgccgc gccgct ccgctg cgctgc gctgcc ctgccg tgccga gccgac ccgacg cgacgt gacgtc acgtcc cgtccg gtccgc tccgcg ccgcgc cgcgcg gcgcgc cgcgca gcgcag cgcagg gcaggt caggtt aggttc ggttca gttcat ttcata tcatag catagg ataggc taggcg aggcgg ggcgga gcggaa cggaag ggaagg gaaggg aaggga agggac gggact ggactt gacttg acttga cttgac ttgact tgactt gacttg acttgt cttgtc ttgtct tgtctc gtctca tctcag ctcaga tcagat cagata agatac gatacc ataccc taccct acccta ccctat cctata ctatat tatatt atatta tattaa attaat ttaatc taatct aatctt atcttg tcttgt cttgtg ttgtga tgtgaa gtgaag tgaagc gaagca aagcat agcatt gcattt cattta atttaa tttaac ttaaca taacat aacatc acatct catctg atctgc tctgcc ctgcct tgcctg gcctgt cctgtc ctgtcc tgtcca gtccaa tccaaa ccaaat caaatg aaatgt aatgta atgtat tgtatg gtatgt tatgtc atgtcg tgtcgt gtcgta tcgtat cgtata gtatat tatatc atatca tatcac atcacg tcacgg cacggt acggtt cggttt ggtttc gtttca tttcat ttcatc tcatca catcac atcaca tcacac cacaca acacaa cacaac acaacc caaccc aacccc acccca ccccag cccaga ccagac cagaca agacag gacagt acagta cagtaa agtaaa gtaaaa taaaac aaaaca aaacac aacaca acacac cacaca acacag cacagt acagtg cagtgg agtggt gtggtg tggtga ggtgaa gtgaaa tgaaaa gaaaaa aaaaat aaaata aaatac aataca atacac tacacc acaccg caccga accgat ccgatc cgatcc gatcct atcctt tccttt cctttc ctttca tttcaa ttcaaa tcaaac caaact aaactc aactcg actcgg ctcggt tcggtt cggttg ggttgg gttgga ttggag tggaga ggagag gagaga agagac gagact agactt gacttg acttga cttgaa ttgaaa tgaaag gaaagg aaaggt aaggtc aggtct ggtctg gtctgt tctgta ctgtat tgtatg gtatga tatgag atgagg tgagga gaggac aggaca ggacat gacatt acatta cattag attaga ttagaa tagaaa agaaag gaaagg aaagga aaggaa aggaac ggaact gaactg aactgc actgct ctgctt tgctta gcttat cttata ttatat tatatc atatca tatcaa atcaac tcaaca caacat aacatc acatca catcag atcaga tcagaa cagaac agaact gaactt aactta acttaa cttaag ttaagg taagga aaggaa aggaaa ggaaat gaaatg aaatgt aatgtc atgtct tgtctg gtctga tctgag ctgagt tgagta gagtac agtact gtacta tactac actact ctactt tacttt actttg ctttga tttgat ttgatg tgatgg gatggg atggga tgggaa gggaaa ggaaag gaaagg aaaggg aaggga agggaa gggaaa ggaaag gaaagc aaagcc aagcct agcctt gccttt cctttc ctttcg tttcga ttcgac tcgacc cgacca gaccaa accaat ccaatt caatta aattat attatt ttattg tattgt attgtg ttgtgg tgtggc gtggcg tggcgc ggcgct gcgcta cgctaa gctaat ctaatg taatgg aatggc atggcc tggccc ggcccg gcccga cccgag ccgagc cgagca gagcat agcatg gcatgc catgca atgcaa tgcaat gcaata caatat aatatt atattc tattca attcat ttcatc tcatca catcat atcata tcataa cataac ataaca taacaa aacaac acaact caactc aactcc actccc ctcccg tcccga cccgac ccgaca cgacat gacatg acatgt catgtg atgtgc tgtgca gtgcaa tgcaag gcaagc caagcc aagcca agccag gccagc ccagcc cagcca agccag gccagc ccagcg cagcgc agcgca gcgcac cgcacc gcacca caccat accata ccatag catagc atagcc tagcct agcctt gcctta ccttaa cttaat ttaatt taattg aattgc attgca ttgcag tgcaga gcagaa cagaaa agaaat gaaatg aaatga aatgat atgatc tgatcc gatcca atccac tccaca ccacac cacact acactg cactgc actgct ctgcta tgctag gctagt ctagtc tagtct agtctg gtctgg tctggt ctggtt tggttc ggttca gttcac ttcacg tcacga cacgat acgatg cgatga gatgac atgacg tgacgt gacgtt acgtta cgttat gttatt ttattg tattga attgac ttgacg tgacga gacgat acgatg cgatgc gatgca atgcaa tgcaag gcaagt caagtt aagttc agttct gttctc ttctcg tctcga ctcgaa tcgaag cgaaga gaagag aagagg agagga gaggaa aggaaa ggaaaa gaaaac aaaaca aaacac aacaca acacac cacaca acacag cacagt acagtt cagtta agttaa gttaat ttaata taataa aataag ataaga taagat aagatc agatct gatctg atctgg tctggg ctgggg tggggt ggggtg gggtga ggtgaa gtgaaa tgaaaa gaaaag aaaaga aaagaa aagaag agaagg gaaggc aaggct aggctg ggctgt gctgtt ctgttc tgttct gttctt ttcttg tcttgc cttgct ttgctg tgctgg gctgga ctggag tggaga ggagat gagatt agattt gattta atttaa tttaat ttaatt taattc aattct attctt ttcttt tctttc ctttct tttctg ttctgc tctgca ctgcag tgcagc gcagca cagcat agcatc gcatct catcta atctat tctata ctatag tatagc atagct tagctc agctct gctctg ctctgg tctggc ctggca tggcac ggcacg gcacga cacgaa acgaat cgaatt gaattg aattgg attgga ttggaa tggaaa ggaaat gaaata aaatac aataca atacaa tacaac acaact caactg aactgt actgtt ctgtta tgttat gttata ttatat tatatc atatct tatcta atctat tctatt ctattt tatttt atttta ttttaa tttaac ttaacc taaccc aaccca acccaa cccaag ccaagt caagtt aagtta agttat gttatt ttattg tattga attgaa ttgaag tgaaga gaagat aagatt agattt gatttg atttgg tttggt ttggtg tggtgc ggtgcg gtgcgt tgcgtg gcgtgg cgtggt gtggtg tggtga ggtgaa gtgaat tgaatt gaattt aatttc atttct tttctt ttcttc tcttca cttcag ttcagc tcagct cagctc agctcg gctcgg ctcggg tcgggt cgggtc gggtca ggtcaa gtcaaa tcaaaa caaaag aaaaga aaagaa aagaaa agaaaa gaaaat aaaatg aaatga aatgag atgaga tgagaa gagaat agaatg gaatga aatgaa atgaaa tgaaag gaaaga aaagat aagatt agattt gatttg atttgc tttgca ttgcac tgcaca gcacac cacact acacta cactac actacc ctacct tacctt accttg ccttga cttgag ttgaga tgagaa gagaag agaaga gaagac aagacg agacgt gacgtt acgttc cgttca gttcaa ttcaag tcaaga caagaa aagaag agaaga gaagac aagacc agaccg gaccgc accgcc ccgcca cgccag gccagc ccagcc cagcct agcctg gcctga cctgat ctgata tgatag gatagc atagcc tagcca agccaa gccaac ccaaca caacag aacagt acagtt cagttg agttgt gttgta ttgtaa tgtaaa gtaaag taaagc aaagca aagcag agcagt gcagtc cagtct agtctc gtctct tctctg ctctgt tctgtt ctgttc tgttct gttcta ttctag tctagg ctagga taggat aggatg ggatgt gatgtc atgtcc tgtccc gtcccg tcccga cccgac ccgacc cgaccc gaccca acccag cccagt ccagtg cagtgg agtggt gtggtg tggtgc ggtgca gtgcat tgcatg gcatga catgag atgaga tgagat gagatc agatcg gatcgc atcgcc tcgcct cgccta gcctat cctatc ctatca tatcag atcagt tcagta cagtac agtacg gtacgg tacgga acggaa cggaaa ggaaaa gaaaaa aaaaaa aaaaat aaaatg aaatgt aatgta atgtag tgtagg gtagga taggaa aggaat ggaata gaatag aatagc atagct tagctt agcttt gctttt cttttc ttttca tttcag ttcagc tcagct cagctt agctta gcttat cttata ttatag tataga atagat tagatg agatga gatgat atgatg tgatgt gatgta atgtat tgtatt gtattg tattgg attgga ttggac tggact ggactt gacttc acttca cttcac ttcacc tcacct cacctc acctca cctcat ctcatg tcatgt catgtt atgttc tgttct gttctg ttctga tctgac ctgacc tgacca gaccag accaga ccagat cagatg agatgg gatggg atgggc tgggca gggcaa ggcaaa gcaaac caaacc aaacca aaccaa accaac ccaaca caacat aacatc acatca catcag atcagc tcagct cagctg agctga gctgat ctgatc tgatct gatctg atctga tctgaa ctgaag tgaagc gaagct aagctc agctcg gctcgg ctcggg tcgggt cgggtt gggtta ggttag gttagc ttagcc tagcca agccac gccact ccactg cactgg actggt ctggtc tggtcc ggtcct gtcctg tcctgt cctgtc ctgtcc tgtcct gtcctg tcctgt cctgtt ctgttt tgtttg gtttgc tttgcc ttgcct tgcctg gcctgt cctgtc ctgtca tgtcag gtcagc tcagca cagcag agcagt gcagtt cagttc agttcc gttccc ttccca tcccag cccaga ccagaa cagaaa agaaat gaaatg aaatga aatgaa atgaat tgaatg gaatgc aatgct atgcta tgctat gctatg ctatga tatgat atgatc tgatca gatcat atcatg tcatgc catgcg atgcga tgcgac gcgacg cgacgg gacggt acggtt cggttc ggttca gttcag ttcagt tcagtt cagttt agtttg gtttgc tttgcc ttgccg tgccgg gccggg ccggga cgggag gggaga ggagat gagatg agatgt gatgta atgtag tgtaga gtagac tagaca agacag gacaga acagag cagagc agagct gagctc agctcg gctcga ctcgac tcgaca cgacag gacagt acagta cagtat agtatg gtatgt tatgta atgtat tgtatt gtatta tattac attaca ttacag tacaga acagag cagagt agagtg gagtga agtgat gtgatg tgatgg gatggt atggtg tggtgt ggtgtg gtgtgc tgtgca gtgcaa tgcaac gcaaca caacaa aacaaa acaaac caaaca aaacaa aacaac acaacc caacct aaccta acctac cctacc ctacct tacctc acctcg cctcgc ctcgcc tcgccc cgccca gcccag cccagc ccagca cagcag agcagt gcagta cagtac agtact gtactg tactgc actgcc ctgcca tgccat gccatg ccatga catgaa atgaag tgaagc gaagca aagcaa agcaat gcaata caataa aataag ataaga taagag aagaga agagag gagaga agagat gagatc agatca gatcag atcagt tcagta cagtaa agtaaa gtaaac taaact aaactt aacttc acttcg cttcga ttcgac tcgacc cgacca gaccat accatc ccatcc catccc atcccc tcccca ccccag cccaga ccagaa cagaaa agaaag gaaaga aaagag aagaga agagat gagatg agatgc gatgcc atgccc tgccct gccctc ccctca cctcat ctcatt tcattc cattca attcag ttcagc tcagct cagctt agcttt gctttc ctttca tttcag ttcaga tcagaa cagaaa agaaat gaaatt aaattg aattgt attgta ttgtac tgtact gtactc tactca actcac ctcaca tcacaa cacaag acaaga caagag aagaga agagat gagata agataa gataaa ataaat taaatg aaatga\n"
     ]
    }
   ],
   "source": [
    "chimp_text=[]\n",
    "\n",
    "for i in range(len(chimp_dt['words'])):\n",
    "    chimp_text.append(chimp_dt['words'][i])\n",
    "for item in range(len(chimp_text)):\n",
    "    chimp_text[item]=\" \".join(chimp_text[item])\n",
    "print(chimp_text[2])"
   ]
  },
  {
   "cell_type": "code",
   "execution_count": 46,
   "id": "2cabd8b4",
   "metadata": {},
   "outputs": [],
   "source": [
    "#Applying Count Vectorizer :\n",
    "\n",
    "\n",
    "from sklearn.feature_extraction.text import CountVectorizer\n",
    "\n",
    "cv=CountVectorizer(ngram_range=(4,4))\n",
    "\n",
    "dog_X=cv.fit_transform(dog_text)\n",
    "chimp_X=cv.fit_transform(chimp_text)"
   ]
  },
  {
   "cell_type": "code",
   "execution_count": 47,
   "id": "a175d9b4",
   "metadata": {},
   "outputs": [],
   "source": [
    "dog_Y=dog_dt['class']\n",
    "chimp_Y=chimp_dt['class']"
   ]
  },
  {
   "cell_type": "code",
   "execution_count": 48,
   "id": "fdbf2f15",
   "metadata": {},
   "outputs": [],
   "source": [
    "dog_Xtrain,dog_Xtest,dog_Ytrain,dog_Ytest=train_test_split(dog_X,dog_Y,test_size=0.2,random_state=0)"
   ]
  },
  {
   "cell_type": "code",
   "execution_count": 49,
   "id": "ff207067",
   "metadata": {},
   "outputs": [],
   "source": [
    "chimp_Xtrain,chimp_Xtest,chimp_Ytrain,chimp_Ytest=train_test_split(chimp_X,chimp_Y,test_size=0.2,random_state=0)"
   ]
  },
  {
   "cell_type": "code",
   "execution_count": 50,
   "id": "ab42dae9",
   "metadata": {},
   "outputs": [
    {
     "data": {
      "text/plain": [
       "(656, 227149)"
      ]
     },
     "execution_count": 50,
     "metadata": {},
     "output_type": "execute_result"
    }
   ],
   "source": [
    "dog_Xtrain.shape"
   ]
  },
  {
   "cell_type": "code",
   "execution_count": 51,
   "id": "a23338d6",
   "metadata": {},
   "outputs": [
    {
     "data": {
      "text/plain": [
       "(1345, 229684)"
      ]
     },
     "execution_count": 51,
     "metadata": {},
     "output_type": "execute_result"
    }
   ],
   "source": [
    "chimp_Xtrain.shape"
   ]
  },
  {
   "cell_type": "code",
   "execution_count": 55,
   "id": "e8342510",
   "metadata": {},
   "outputs": [
    {
     "name": "stderr",
     "output_type": "stream",
     "text": [
      "C:\\Users\\a0g0btd\\Anaconda3\\envs\\DNASequence\\lib\\site-packages\\seaborn\\_decorators.py:36: FutureWarning: Pass the following variable as a keyword arg: x. From version 0.12, the only valid positional argument will be `data`, and passing other arguments without an explicit keyword will result in an error or misinterpretation.\n",
      "  warnings.warn(\n"
     ]
    },
    {
     "data": {
      "text/plain": [
       "<AxesSubplot:xlabel='class', ylabel='count'>"
      ]
     },
     "execution_count": 55,
     "metadata": {},
     "output_type": "execute_result"
    },
    {
     "data": {
      "image/png": "[encoded data removed]",
      "text/plain": [
       "<Figure size 1440x1440 with 1 Axes>"
      ]
     },
     "metadata": {
      "needs_background": "light"
     },
     "output_type": "display_data"
    }
   ],
   "source": [
    "# Visualize target variables:\n",
    "\n",
    "plt.figure(figsize=(20,20))\n",
    "sns.countplot(dog_dt['class'])"
   ]
  },
  {
   "cell_type": "code",
   "execution_count": 56,
   "id": "24ca7e5b",
   "metadata": {},
   "outputs": [
    {
     "name": "stderr",
     "output_type": "stream",
     "text": [
      "C:\\Users\\a0g0btd\\Anaconda3\\envs\\DNASequence\\lib\\site-packages\\seaborn\\_decorators.py:36: FutureWarning: Pass the following variable as a keyword arg: x. From version 0.12, the only valid positional argument will be `data`, and passing other arguments without an explicit keyword will result in an error or misinterpretation.\n",
      "  warnings.warn(\n"
     ]
    },
    {
     "data": {
      "text/plain": [
       "<AxesSubplot:xlabel='class', ylabel='count'>"
      ]
     },
     "execution_count": 56,
     "metadata": {},
     "output_type": "execute_result"
    },
    {
     "data": {
      "image/png": "[encoded data removed]",
      "text/plain": [
       "<Figure size 1440x1440 with 1 Axes>"
      ]
     },
     "metadata": {
      "needs_background": "light"
     },
     "output_type": "display_data"
    }
   ],
   "source": [
    "plt.figure(figsize=(20,20))\n",
    "sns.countplot(chimp_dt['class'])"
   ]
  },
  {
   "cell_type": "code",
   "execution_count": 58,
   "id": "93c53773",
   "metadata": {},
   "outputs": [],
   "source": [
    "# Applying Multinomial NB:\n",
    "\n",
    "dog_mnb=MultinomialNB(alpha=0.1)\n",
    "\n",
    "dog_mnb.fit(dog_Xtrain,dog_Ytrain)\n",
    "\n",
    "dog_pred=dog_mnb.predict(dog_Xtest)"
   ]
  },
  {
   "cell_type": "code",
   "execution_count": 59,
   "id": "4280b2d4",
   "metadata": {},
   "outputs": [
    {
     "name": "stdout",
     "output_type": "stream",
     "text": [
      "0.7317073170731707\n",
      "********************************************************************************\n",
      "[[16  0  0  1  0  1  0]\n",
      " [ 1 10  0  0  0  0  4]\n",
      " [ 0  0  6  1  0  0  6]\n",
      " [ 2  0  0 12  1  0  5]\n",
      " [ 4  0  0  2 12  3  6]\n",
      " [ 2  0  0  1  0  9  1]\n",
      " [ 1  0  0  1  0  1 55]]\n",
      "********************************************************************************\n",
      "              precision    recall  f1-score   support\n",
      "\n",
      "           0       0.62      0.89      0.73        18\n",
      "           1       1.00      0.67      0.80        15\n",
      "           2       1.00      0.46      0.63        13\n",
      "           3       0.67      0.60      0.63        20\n",
      "           4       0.92      0.44      0.60        27\n",
      "           5       0.64      0.69      0.67        13\n",
      "           6       0.71      0.95      0.81        58\n",
      "\n",
      "    accuracy                           0.73       164\n",
      "   macro avg       0.79      0.67      0.70       164\n",
      "weighted avg       0.78      0.73      0.72       164\n",
      "\n",
      "********************************************************************************\n"
     ]
    }
   ],
   "source": [
    "from sklearn.metrics import accuracy_score,confusion_matrix,classification_report\n",
    "\n",
    "accuracy=accuracy_score(dog_Ytest,dog_pred)\n",
    "print(accuracy)\n",
    "print(\"*\"*80)\n",
    "\n",
    "confusion_matrix=confusion_matrix(dog_Ytest,dog_pred)\n",
    "print(confusion_matrix)\n",
    "print(\"*\"*80)\n",
    "\n",
    "classification_report=classification_report(dog_Ytest,dog_pred)\n",
    "print(classification_report)\n",
    "print(\"*\"*80)"
   ]
  },
  {
   "cell_type": "code",
   "execution_count": 60,
   "id": "df15687a",
   "metadata": {},
   "outputs": [],
   "source": [
    "chimp_mnb=MultinomialNB(alpha=0.1)\n",
    "\n",
    "chimp_mnb.fit(chimp_Xtrain,chimp_Ytrain)\n",
    "\n",
    "chimp_pred=chimp_mnb.predict(chimp_Xtest)"
   ]
  },
  {
   "cell_type": "code",
   "execution_count": 62,
   "id": "4b7b1e0b",
   "metadata": {},
   "outputs": [
    {
     "name": "stdout",
     "output_type": "stream",
     "text": [
      "0.9080118694362018\n",
      "********************************************************************************\n",
      "[[ 40   0   0   0   1   0   7]\n",
      " [  0  36   0   0   0   0   1]\n",
      " [  0   0  24   0   0   0   0]\n",
      " [  0   0   0  49   1   0   5]\n",
      " [  1   0   0   0  40   0   9]\n",
      " [  4   0   0   0   0  15   2]\n",
      " [  0   0   0   0   0   0 102]]\n",
      "********************************************************************************\n",
      "              precision    recall  f1-score   support\n",
      "\n",
      "           0       0.89      0.83      0.86        48\n",
      "           1       1.00      0.97      0.99        37\n",
      "           2       1.00      1.00      1.00        24\n",
      "           3       1.00      0.89      0.94        55\n",
      "           4       0.95      0.80      0.87        50\n",
      "           5       1.00      0.71      0.83        21\n",
      "           6       0.81      1.00      0.89       102\n",
      "\n",
      "    accuracy                           0.91       337\n",
      "   macro avg       0.95      0.89      0.91       337\n",
      "weighted avg       0.92      0.91      0.91       337\n",
      "\n",
      "********************************************************************************\n"
     ]
    }
   ],
   "source": [
    "from sklearn.metrics import accuracy_score,confusion_matrix,classification_report\n",
    "\n",
    "accuracy=accuracy_score(chimp_Ytest,chimp_pred)\n",
    "print(accuracy)\n",
    "print(\"*\"*80)\n",
    "\n",
    "confusion_matrix=confusion_matrix(chimp_Ytest,chimp_pred)\n",
    "print(confusion_matrix)\n",
    "print(\"*\"*80)\n",
    "\n",
    "classification_report=classification_report(chimp_Ytest,chimp_pred)\n",
    "print(classification_report)\n",
    "print(\"*\"*80)"
   ]
  }
 ],
 "metadata": {
  "kernelspec": {
   "display_name": "Python 3 (ipykernel)",
   "language": "python",
   "name": "python3"
  },
  "language_info": {
   "codemirror_mode": {
    "name": "ipython",
    "version": 3
   },
   "file_extension": ".py",
   "mimetype": "text/x-python",
   "name": "python",
   "nbconvert_exporter": "python",
   "pygments_lexer": "ipython3",
   "version": "3.10.4"
  }
 },
 "nbformat": 4,
 "nbformat_minor": 5
}
